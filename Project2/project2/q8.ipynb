{
 "cells": [
  {
   "cell_type": "code",
   "execution_count": 52,
   "source": [
    "server_args = []\n",
    "import matplotlib.pyplot as plt\n",
    "import math\n",
    "import numpy as np\n",
    "from meshcat.servers.zmqserver import start_zmq_server_as_subprocess\n",
    "proc, zmq_url, web_url = start_zmq_server_as_subprocess(server_args=server_args)\n",
    "\n",
    "from pydrake.all import (LeafSystem,BasicVector,DiagramBuilder, AddMultibodyPlantSceneGraph, Parser, LinearQuadraticRegulator,\n",
    "                         Simulator, RigidTransform, CoulombFriction, FindResourceOrThrow, DrakeVisualizer, ConnectContactResultsToDrakeVisualizer,\n",
    "                         RollPitchYaw, JointIndex, namedview, ConnectMeshcatVisualizer,\n",
    "                         Value, List, ZeroOrderHold, SpatialAcceleration, RotationMatrix, AbstractValue, ConstantVectorSource)"
   ],
   "outputs": [],
   "metadata": {}
  },
  {
   "cell_type": "code",
   "execution_count": 53,
   "source": [
    "def UprightState():\n",
    "        state = [0, np.pi, 0, 0]\n",
    "        return state\n",
    "\n",
    "def BalancingLQR(plant):\n",
    "    # Design an LQR controller for stabilizing the CartPole around the upright.\n",
    "    # Returns a (static) AffineSystem that implements the controller (in\n",
    "    # the original CartPole coordinates).\n",
    "\n",
    "    context = plant.CreateDefaultContext()\n",
    "    plant.get_actuation_input_port().FixValue(context, [0])\n",
    "    context.get_mutable_continuous_state_vector().SetFromVector(UprightState())\n",
    "    Q = np.diag((10., 10., 1., 1.))\n",
    "    R = [1]     \n",
    "\n",
    "    # MultibodyPlant has many (optional) input ports, so we must pass the\n",
    "    # input_port_index to LQR.\n",
    "    return LinearQuadraticRegulator(\n",
    "        plant,\n",
    "        context,\n",
    "        Q,\n",
    "        R,\n",
    "        input_port_index=plant.get_actuation_input_port().get_index(0))\n",
    "\n",
    "class myController(LeafSystem):\n",
    "    def __init__(self, K):\n",
    "        LeafSystem.__init__(self)                  \n",
    "        self.DeclareVectorInputPort(\"u\", BasicVector(2))        \n",
    "        self.DeclareVectorOutputPort(\"y\", BasicVector(1), self.CalcOutputY) \n",
    "        self.K = np.array([[K[1],K[3]]])                                \n",
    "    def CalcOutputY(self, context, output):\n",
    "        statex = self.get_input_port(0).Eval(context)         \n",
    "        y = -np.dot(self.K, (statex))    \n",
    "      #  print(statex, y, statex-np.array([0, np.pi, 0, 0]))                         \n",
    "        output.SetFromVector([y])"
   ],
   "outputs": [],
   "metadata": {}
  },
  {
   "cell_type": "code",
   "execution_count": 54,
   "source": [
    "# Define the system.\n",
    "class DTObserver(LeafSystem):\n",
    "    def __init__(self,A,B,C,L,T):\n",
    "        LeafSystem.__init__(self)     \n",
    "        self.DeclareDiscreteState(2)\n",
    "        # Define the input\n",
    "        self.DeclareVectorInputPort(\"uk\", BasicVector(1))\n",
    "        self.DeclareVectorInputPort(\"yk\", BasicVector(4))\n",
    "        # Define the output\n",
    "        self.DeclareVectorOutputPort(\"x_estimated\", BasicVector(2), self.CalcOutputY, set([self.all_state_ticket()]))\n",
    "        self.DeclarePeriodicDiscreteUpdate(T)  # One second timestep.         \n",
    "        self.A = A\n",
    "        self.B = B\n",
    "        self.C = C\n",
    "        self.L = L\n",
    "    def DoCalcDiscreteVariableUpdates(self, context, events, discrete_state):\n",
    "        xk = context.get_discrete_state_vector().CopyToVector()\n",
    "        # xk1 = np.array([[xk[1]],[xk[3]]])\n",
    "        # print(xk1)\n",
    "        uk = self.get_input_port(0).Eval(context)\n",
    "        yk = self.get_input_port(1).Eval(context)\n",
    "        yk1 = yk[1]-np.pi\n",
    "        A = self.A \n",
    "        B = self.B \n",
    "        C = self.C\n",
    "        L = self.L\n",
    "        # print(A.dot(xk1))\n",
    "        # xk1 = np.mat(xk1.reshape((2,1)))        \n",
    "        xnext = A.dot(xk) + B.dot(uk) + L.dot(yk1 - C.dot(xk)) \n",
    "        # xnext1 = np.array([[xk[0]],[xnext[0]],[xk[2]],[xnext[1]]])       \n",
    "        discrete_state.get_mutable_vector().SetFromVector(xnext)\n",
    "        \n",
    "    def CalcOutputY(self, context, output):\n",
    "        x = context.get_discrete_state_vector().CopyToVector()\n",
    "        y = x\n",
    "        output.SetFromVector(y)"
   ],
   "outputs": [],
   "metadata": {}
  },
  {
   "cell_type": "code",
   "execution_count": 55,
   "source": [
    "# Calculate L\n",
    "import scipy.signal as sig\n",
    "A = np.array([[1, 0.005],[0.10791, 1]])\n",
    "B = np.array([[0],[0.001]])\n",
    "C = np.array([[1, 0]])\n",
    "s_desired = np.array([-9+2j, -9-2j])\n",
    "z_desired = np.exp(s_desired*0.005)\n",
    "L = sig.place_poles(A.T, C.T, z_desired).gain_matrix\n",
    "L = L.T\n",
    "print(L)"
   ],
   "outputs": [
    {
     "output_type": "stream",
     "name": "stdout",
     "text": [
      "[[0.08810064]\n",
      " [0.51427411]]\n"
     ]
    }
   ],
   "metadata": {}
  },
  {
   "cell_type": "code",
   "execution_count": 56,
   "source": [
    "from pydrake.all import (BasicVector, LeafSystem, DiagramBuilder, Simulator, LogOutput, ConstantVectorSource, \n",
    "                         LinearSystem)\n",
    "builder = DiagramBuilder()\n",
    "# K = np.array([-15.29051988, 220.55525994, -18.85830785,  44.42915392])\n",
    "K = np.array([-15.29051988, 132.66140054,-18.85830785,  19.9250837]) # Question7 -2-j -2+j\n",
    "# K = np.array([-15.29051988, 444.48486861,-18.85830785,  21.48420104]) # Question7 -2-8j -2+8j\n",
    "# K = np.array([0, 132.66140054, -6,  19.9250837]) # Question7 -2-j -2+j\n",
    "# K = np.array([0, 444.48486861, -6,  21.48420104]) # Question7 -2-8j -2+8j\n",
    "#K = np.array([-0. ,        124.96  ,      -6.13149847,  17.06574924])\n",
    "T = 0.005\n",
    "observer = builder.AddSystem(DTObserver(A, B, C, L,T))\n",
    "controller = builder.AddSystem(myController(K))\n",
    "plant, scene_graph = AddMultibodyPlantSceneGraph(builder, time_step=0.0)\n",
    "# Select a robot model\n",
    "urdf_path = \"./urdfExample_cart_pole.urdf\"    \n",
    "cart_pole = Parser(plant, scene_graph).AddModelFromFile(urdf_path)    \n",
    "plant.Finalize()\n",
    "\n",
    "#controller = builder.AddSystem(BalancingLQR(plant))\n",
    "#controller = builder.AddSystem(myController)\n",
    "builder.Connect(controller.get_output_port(0), observer.get_input_port(0))\n",
    "builder.Connect(plant.get_state_output_port(), observer.get_input_port(1))\n",
    "builder.Connect(observer.get_output_port(0), controller.get_input_port(0))\n",
    "# builder.Connect(plant.get_state_output_port(), controller.get_input_port(0))\n",
    "builder.Connect(controller.get_output_port(), plant.get_actuation_input_port())\n",
    "\n",
    "logger_pendulum_state = LogOutput(plant.get_state_output_port(), builder)\n",
    "\n",
    "meshcat = ConnectMeshcatVisualizer(builder, scene_graph, zmq_url=zmq_url, open_browser=True)\n",
    "diagram = builder.Build()\n",
    "\n",
    "simulator = Simulator(diagram)\n",
    "simulator.set_target_realtime_rate(1)\n",
    "context = simulator.get_mutable_context()\n",
    "context.SetContinuousState(UprightState() + np.array([0,0.6,0,0]))\n",
    "simulator.Initialize()\n",
    "sim_time = 15\n",
    "meshcat.start_recording() \n",
    "simulator.AdvanceTo(sim_time)\n",
    "meshcat.stop_recording()\n",
    "meshcat.publish_recording()\n"
   ],
   "outputs": [
    {
     "output_type": "stream",
     "name": "stdout",
     "text": [
      "Connecting to meshcat-server at zmq_url=tcp://127.0.0.1:6049...\n",
      "You can open the visualizer by visiting the following URL:\n",
      "http://127.0.0.1:7049/static/\n",
      "Connected to meshcat-server.\n"
     ]
    },
    {
     "output_type": "stream",
     "name": "stderr",
     "text": [
      "/opt/drake/lib/python3.6/site-packages/pydrake/common/cpp_template.py:392: DrakeDeprecationWarning: (Deprecated.)\n",
      "\n",
      "Deprecated:\n",
      "    Use LogVectorOutput instead. This will be removed from Drake on or\n",
      "    after 2021-12-01.\n",
      "  def f(*args, **kwargs): return orig(*args, **kwargs)\n"
     ]
    }
   ],
   "metadata": {}
  },
  {
   "cell_type": "code",
   "execution_count": 57,
   "source": [
    "import matplotlib.pyplot as plt\n",
    "plt.figure()\n",
    "plt.plot(logger_pendulum_state.sample_times(), logger_pendulum_state.data().transpose())\n",
    "plt.xlabel('t')\n",
    "plt.ylabel('y(t)')"
   ],
   "outputs": [
    {
     "output_type": "execute_result",
     "data": {
      "text/plain": [
       "Text(0,0.5,'y(t)')"
      ]
     },
     "metadata": {},
     "execution_count": 57
    },
    {
     "output_type": "display_data",
     "data": {
      "image/png": "[encoded data removed]",
      "text/plain": [
       "<matplotlib.figure.Figure at 0x7f359eda2ba8>"
      ]
     },
     "metadata": {
      "needs_background": "light"
     }
    }
   ],
   "metadata": {}
  },
  {
   "cell_type": "code",
   "execution_count": 58,
   "source": [
    "plt.figure()\n",
    "plt.plot(logger_pendulum_state.sample_times(), logger_pendulum_state.data()[1,:].transpose())\n",
    "plt.xlabel('t')\n",
    "plt.ylabel('y(t)')"
   ],
   "outputs": [
    {
     "output_type": "execute_result",
     "data": {
      "text/plain": [
       "Text(0,0.5,'y(t)')"
      ]
     },
     "metadata": {},
     "execution_count": 58
    },
    {
     "output_type": "display_data",
     "data": {
      "image/png": "[encoded data removed]",
      "text/plain": [
       "<matplotlib.figure.Figure at 0x7f359edbc0b8>"
      ]
     },
     "metadata": {
      "needs_background": "light"
     }
    }
   ],
   "metadata": {}
  }
 ],
 "metadata": {
  "interpreter": {
   "hash": "31f2aee4e71d21fbe5cf8b01ff0e069b9275f58929596ceb00d14d90e3e16cd6"
  },
  "kernelspec": {
   "name": "python3",
   "display_name": "Python 3.6.9 64-bit"
  },
  "language_info": {
   "codemirror_mode": {
    "name": "ipython",
    "version": 3
   },
   "file_extension": ".py",
   "mimetype": "text/x-python",
   "name": "python",
   "nbconvert_exporter": "python",
   "pygments_lexer": "ipython3",
   "version": "3.6.9"
  },
  "orig_nbformat": 4
 },
 "nbformat": 4,
 "nbformat_minor": 2
}