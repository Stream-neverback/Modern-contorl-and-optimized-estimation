{
 "cells": [
  {
   "cell_type": "code",
   "execution_count": 1,
   "source": [
    "server_args = []\n",
    "import math\n",
    "import numpy as np\n",
    "from meshcat.servers.zmqserver import start_zmq_server_as_subprocess\n",
    "proc, zmq_url, web_url = start_zmq_server_as_subprocess(server_args=server_args)\n",
    "from pydrake.all import (LeafSystem,BasicVector,DiagramBuilder, AddMultibodyPlantSceneGraph, Parser, LinearQuadraticRegulator,\n",
    "                         Simulator, RigidTransform, CoulombFriction, FindResourceOrThrow, DrakeVisualizer, ConnectContactResultsToDrakeVisualizer,\n",
    "                         RollPitchYaw, JointIndex, namedview, ConnectMeshcatVisualizer,\n",
    "                         Value, List, ZeroOrderHold, SpatialAcceleration, RotationMatrix, AbstractValue, ConstantVectorSource)\n",
    "\n",
    "\n",
    "# if you need to use other class from Drake, you can add them to the list above"
   ],
   "outputs": [],
   "metadata": {}
  },
  {
   "cell_type": "code",
   "execution_count": 4,
   "source": [
    "builder = DiagramBuilder()\n",
    "# First add the cart-pole system from a urdf file\n",
    "plant, scene_graph = AddMultibodyPlantSceneGraph(builder, time_step=0)\n",
    "urdf_path = \"./urdfExample_cart_pole.urdf\"    \n",
    "cart_pole = Parser(plant, scene_graph).AddModelFromFile(urdf_path)    \n",
    "plant.Finalize()\n",
    "\n",
    "# Add controller (u = 0)\n",
    "controller = builder.AddSystem(ConstantVectorSource([0]))\n",
    "\n",
    "# connect to make diagram\n",
    "builder.Connect(controller.get_output_port(), plant.get_actuation_input_port())\n",
    "\n",
    "# set up visualization using meshcat\n",
    "meshcat = ConnectMeshcatVisualizer(builder, scene_graph, zmq_url=zmq_url, open_browser=True)\n",
    "diagram = builder.Build()\n",
    "\n",
    "# start simulation\n",
    "# UprightState = np.array([0, np.pi, 0, 0])   # the state of the cart-pole is organized as [z, theta, zdot, theta_dot]\n",
    "# UprightState = np.array([0, np.pi/2, 0, 0])   # the state of the cart-pole is organized as [z, theta, zdot, theta_dot]\n",
    "UprightState = np.array([0, np.pi/3, 0, 0])   # the state of the cart-pole is organized as [z, theta, zdot, theta_dot]\n",
    "\n",
    "simulator = Simulator(diagram)\n",
    "simulator.set_target_realtime_rate(1)\n",
    "context = simulator.get_mutable_context()\n",
    "# context.SetContinuousState(UprightState + np.array([0.1,0.3,0.3,0.1]))  # 有扰动偏移 disturbance\n",
    "context.SetContinuousState(UprightState)  # 无扰动偏移 No disturbance\n",
    "simulator.Initialize()\n",
    "\n",
    "sim_time = 5\n",
    "meshcat.start_recording() \n",
    "simulator.AdvanceTo(sim_time)\n",
    "meshcat.stop_recording()\n",
    "meshcat.publish_recording()\n",
    "simulator.AdvanceTo(sim_time)"
   ],
   "outputs": [
    {
     "output_type": "stream",
     "name": "stdout",
     "text": [
      "Connecting to meshcat-server at zmq_url=tcp://127.0.0.1:6007...\n",
      "You can open the visualizer by visiting the following URL:\n",
      "http://127.0.0.1:7007/static/\n",
      "Connected to meshcat-server.\n"
     ]
    },
    {
     "output_type": "execute_result",
     "data": {
      "text/plain": [
       "<pydrake.systems.analysis.SimulatorStatus at 0x7f1f96b690b0>"
      ]
     },
     "metadata": {},
     "execution_count": 4
    }
   ],
   "metadata": {}
  }
 ],
 "metadata": {
  "orig_nbformat": 4,
  "language_info": {
   "name": "python",
   "version": "3.6.9",
   "mimetype": "text/x-python",
   "codemirror_mode": {
    "name": "ipython",
    "version": 3
   },
   "pygments_lexer": "ipython3",
   "nbconvert_exporter": "python",
   "file_extension": ".py"
  },
  "kernelspec": {
   "name": "python3",
   "display_name": "Python 3.6.9 64-bit"
  },
  "interpreter": {
   "hash": "31f2aee4e71d21fbe5cf8b01ff0e069b9275f58929596ceb00d14d90e3e16cd6"
  }
 },
 "nbformat": 4,
 "nbformat_minor": 2
}