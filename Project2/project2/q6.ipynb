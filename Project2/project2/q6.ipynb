{
 "cells": [
  {
   "cell_type": "code",
   "execution_count": 2,
   "metadata": {},
   "outputs": [],
   "source": [
    "import numpy as np\n",
    "import sympy as sym\n",
    "\n",
    "#define constants\n",
    "t, g= sym.symbols('t g')\n",
    "mc, mp = sym.symbols('m_c m_p')\n",
    "L,fx = sym.symbols('L f_x ')\n",
    "\n",
    "# define variables \n",
    "theta = sym.symbols(r'\\theta')\n",
    "# z_d = sym.symbols('z_d')\n",
    "theta_d = sym.symbols(r'\\theta_d')\n"
   ]
  },
  {
   "cell_type": "code",
   "execution_count": 3,
   "metadata": {},
   "outputs": [],
   "source": [
    "\n",
    "theta_dd = 1/(L*(mc + mp*sym.sin(theta)**2))*(-fx*sym.cos(theta)-mp*L*(theta_d)**2*sym.cos(theta)*sym.sin(theta)-(mc+mp)*g*sym.sin(theta))\n",
    "\n",
    "x_vec = sym.Matrix([theta,theta_d])\n",
    "vector_field = sym.Matrix([theta_d, theta_dd])\n"
   ]
  },
  {
   "cell_type": "code",
   "execution_count": 4,
   "metadata": {},
   "outputs": [
    {
     "data": {
      "text/latex": [
       "$\\displaystyle \\left[\\begin{matrix}\\theta_{d}\\\\\\frac{- L \\theta_{d}^{2} m_{p} \\sin{\\left(\\theta \\right)} \\cos{\\left(\\theta \\right)} - f_{x} \\cos{\\left(\\theta \\right)} - g \\left(m_{c} + m_{p}\\right) \\sin{\\left(\\theta \\right)}}{L \\left(m_{c} + m_{p} \\sin^{2}{\\left(\\theta \\right)}\\right)}\\end{matrix}\\right]$"
      ],
      "text/plain": [
       "Matrix([\n",
       "[                                                                                                                 \\theta_d],\n",
       "[(-L*\\theta_d**2*m_p*sin(\\theta)*cos(\\theta) - f_x*cos(\\theta) - g*(m_c + m_p)*sin(\\theta))/(L*(m_c + m_p*sin(\\theta)**2))]])"
      ]
     },
     "execution_count": 4,
     "metadata": {},
     "output_type": "execute_result"
    }
   ],
   "source": [
    "vector_field"
   ]
  },
  {
   "cell_type": "code",
   "execution_count": 5,
   "metadata": {},
   "outputs": [],
   "source": [
    "pfpx = vector_field.jacobian([theta,theta_d])\n",
    "pfpu = vector_field.jacobian([fx])\n",
    "\n",
    "# g = 9.81\n",
    "# mc = 10\n",
    "# mp = 1\n",
    "# L =0.5\n",
    "\n",
    "pfpx_f=sym.lambdify((g,fx,mc,mp,L,theta,theta_d), pfpx)\n",
    "\n",
    "pfpu_f = sym.lambdify((g,fx,mc,mp,L,theta,theta_d), pfpu)\n",
    "Ahat= pfpx_f(9.81,0,10,1,0.5,np.pi,0,)\n",
    "Bhat = pfpu_f(9.81,0,10,1,0.5,np.pi,0,)"
   ]
  },
  {
   "cell_type": "code",
   "execution_count": 6,
   "metadata": {},
   "outputs": [
    {
     "data": {
      "text/plain": [
       "array([[ 0.   ,  1.   ],\n",
       "       [21.582, -0.   ]])"
      ]
     },
     "execution_count": 6,
     "metadata": {},
     "output_type": "execute_result"
    }
   ],
   "source": [
    "Ahat"
   ]
  },
  {
   "cell_type": "code",
   "execution_count": 7,
   "metadata": {},
   "outputs": [
    {
     "data": {
      "text/plain": [
       "array([[0. ],\n",
       "       [0.2]])"
      ]
     },
     "execution_count": 7,
     "metadata": {},
     "output_type": "execute_result"
    }
   ],
   "source": [
    "Bhat"
   ]
  },
  {
   "cell_type": "code",
   "execution_count": 8,
   "metadata": {},
   "outputs": [
    {
     "name": "stdout",
     "output_type": "stream",
     "text": [
      "[[1.      0.005  ]\n",
      " [0.10791 1.     ]]\n",
      "[[0.   ]\n",
      " [0.001]]\n"
     ]
    }
   ],
   "source": [
    "import scipy.signal as sig\n",
    "I = np.eye(2)\n",
    "A = I + 0.005*Ahat\n",
    "B = 0.005*Bhat\n",
    "print(A)\n",
    "print(B)"
   ]
  },
  {
   "cell_type": "code",
   "execution_count": 12,
   "metadata": {},
   "outputs": [
    {
     "name": "stdout",
     "output_type": "stream",
     "text": [
      "[[444.48486861  21.48420104]]\n",
      "[0.9892579+0.03959143j 0.9892579-0.03959143j]\n"
     ]
    }
   ],
   "source": [
    "s_desired = np.array([-2+8j, -2-8j])\n",
    "# s_desired = np.array([-2+1j, -2-1j])\n",
    "z_desired = np.exp(s_desired*0.005)\n",
    "cart_pole_gain = sig.place_poles(A, B, z_desired).gain_matrix\n",
    "print(cart_pole_gain)"
   ]
  }
 ],
 "metadata": {
  "interpreter": {
   "hash": "31f2aee4e71d21fbe5cf8b01ff0e069b9275f58929596ceb00d14d90e3e16cd6"
  },
  "kernelspec": {
   "display_name": "Python 3.6.9 64-bit",
   "name": "python3"
  },
  "language_info": {
   "codemirror_mode": {
    "name": "ipython",
    "version": 3
   },
   "file_extension": ".py",
   "mimetype": "text/x-python",
   "name": "python",
   "nbconvert_exporter": "python",
   "pygments_lexer": "ipython3",
   "version": "3.8.8"
  },
  "orig_nbformat": 4
 },
 "nbformat": 4,
 "nbformat_minor": 2
}
