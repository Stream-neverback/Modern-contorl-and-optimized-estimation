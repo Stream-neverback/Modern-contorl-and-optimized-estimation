{
 "cells": [
  {
   "cell_type": "markdown",
   "metadata": {},
   "source": [
    "Q2"
   ]
  },
  {
   "cell_type": "code",
   "execution_count": 2,
   "metadata": {},
   "outputs": [
    {
     "name": "stdout",
     "output_type": "stream",
     "text": [
      "\n",
      "                        fun: 140735.64855994465\n",
      " lowest_optimization_result:       fun: 140735.64855994465\n",
      " hess_inv: array([[-574.37341434, -270.90070061, -748.53605055],\n",
      "       [-270.90070061, -126.54691128, -352.4306235 ],\n",
      "       [-748.53605055, -352.4306235 , -972.81173753]])\n",
      "      jac: array([-2.8125    , -1.63476562, -2.70117188])\n",
      "  message: 'Desired error not necessarily achieved due to precision loss.'\n",
      "     nfev: 460\n",
      "      nit: 1\n",
      "     njev: 112\n",
      "   status: 2\n",
      "  success: False\n",
      "        x: array([2601.32769628, 1977.62175314, 4175.72331985])\n",
      "                    message: ['requested number of basinhopping iterations completed successfully']\n",
      "      minimization_failures: 630\n",
      "                       nfev: 327592\n",
      "                        nit: 1000\n",
      "                       njev: 80008\n",
      "                          x: array([2601.32769628, 1977.62175314, 4175.72331985])\n"
     ]
    },
    {
     "data": {
      "text/plain": [
       "<matplotlib.collections.PathCollection at 0x1dd55becfa0>"
      ]
     },
     "execution_count": 2,
     "metadata": {},
     "output_type": "execute_result"
    },
    {
     "data": {
      "image/png": "[encoded data removed]",
      "text/plain": [
       "<Figure size 432x288 with 1 Axes>"
      ]
     },
     "metadata": {
      "needs_background": "light"
     },
     "output_type": "display_data"
    }
   ],
   "source": [
    "import numpy as np\n",
    "import matplotlib.pyplot as plt\n",
    "from scipy.optimize import minimize\n",
    "from scipy.optimize import basinhopping\n",
    "global t\n",
    "global x\n",
    "global y\n",
    "t=np.array([79445,20009,21622,13683,24709,28223,11293,22990,16446],dtype = object)\n",
    "x=np.array([-20000,1000,-3000,4000,-3500,1000,4000,-4000,6000],dtype = object)\n",
    "y=np.array([5000,3500,-4000,1000,2000,6000,-3000,-1500,-1000],dtype = object)\n",
    "plt.scatter(x, y)\n",
    "\n",
    "#nonlinear method\n",
    "def fun():\n",
    "    fun = lambda pos: 0.3*(t[0] - pos[2]) - np.sqrt((x[0]-pos[0])*(x[0]-pos[0]) + (y[0]-pos[1])*(y[0]-pos[1]))+0.3*(t[1] - pos[2]) - np.sqrt((x[1]-pos[0])*(x[1]-pos[0]) + (y[1]-pos[1])*(y[1]-pos[1]))+0.3*(t[2] - pos[2]) - np.sqrt((x[2]-pos[0])*(x[2]-pos[0]) + (y[2]-pos[1])*(y[2]-pos[1]))+            0.3*(t[3] - pos[2]) - np.sqrt((x[3]-pos[0])*(x[3]-pos[0]) + (y[3]-pos[1])*(y[3]-pos[1]))+0.3*(t[4] - pos[2]) - np.sqrt((x[4]-pos[0])*(x[4]-pos[0]) + (y[4]-pos[1])*(y[4]-pos[1]))+0.3*(t[5] - pos[2]) - np.sqrt((x[5]-pos[0])*(x[5]-pos[0]) + (y[5]-pos[1])*(y[5]-pos[1]))+0.3*(t[6] - pos[2]) - np.sqrt((x[6]-pos[0])*(x[6]-pos[0]) + (y[6]-pos[1])*(y[6]-pos[1]))+0.3*(t[7] - pos[2]) - np.sqrt((x[7]-pos[0])*(x[7]-pos[0]) + (y[7]-pos[1])*(y[7]-pos[1]))+0.3*(t[8] - pos[2]) - np.sqrt((x[8]-pos[0])*(x[8]-pos[0]) + (y[8]-pos[1])*(y[8]-pos[1]))\n",
    "    return fun\n",
    "\n",
    "def func(s):\n",
    "    func = 0\n",
    "    for i in range(0,9):\n",
    "        func = func + 0.3*(t[0] - s[2]) - np.sqrt((x[i]-s[0])*(x[i]-s[0]) + (y[i]-s[1])*(y[i]-s[1]))\n",
    "    return func\n",
    "\n",
    "class MyBounds:\n",
    "    def __init__(self, xmax=[3000,3000,5000], xmin=[-3000,-3000,-5000] ):\n",
    "        self.xmax = np.array(xmax)\n",
    "        self.xmin = np.array(xmin)\n",
    "    def __call__(self, **kwargs):\n",
    "        x = kwargs[\"x_new\"]\n",
    "        tmax = bool(np.all(x <= self.xmax))\n",
    "        tmin = bool(np.all(x >= self.xmin))\n",
    "        return tmax and tmin\n",
    "\n",
    "\n",
    "def con(): \n",
    "    # x1min, x1max, x2min, x2max,x3min,x3max = args\n",
    "    cons = ({'type': 'ineq', 'fun': lambda pos: pos[0] + 3000},\\\n",
    "              {'type': 'ineq', 'fun': lambda pos: -pos[0] + 3000},\\\n",
    "             {'type': 'ineq', 'fun': lambda pos: pos[1] + 3000},\\\n",
    "                {'type': 'ineq', 'fun': lambda pos: -pos[1] + 3000},\\\n",
    "            {'type': 'ineq', 'fun': lambda pos: pos[2] + 5000},\\\n",
    "             {'type': 'ineq', 'fun': lambda pos: -pos[2] + 5000})\n",
    "    return cons\n",
    "\n",
    "# cons = con()\n",
    "x0 = np.array((1500,1500,2500))\n",
    "# minLocation = minimize(fun(), x0, method='SLSQP', constraints=cons)\n",
    "# minLocation = minimize(fun(), x0, method='trust-constr', constraints=cons)\n",
    "mybounds = MyBounds()\n",
    "# globalLocation = basinhopping(func,x0,niter=10000, minimizer_kwargs={\"method\":\"L-BFGS-B\"}, accept_test=mybounds)\n",
    "globalLocation = basinhopping(func,x0,niter=1000, minimizer_kwargs={\"method\":\"BFGS\"}, accept_test=mybounds)\n",
    "# print(minLocation)\n",
    "print()\n",
    "print(globalLocation)\n",
    "\n",
    "posx=np.array([2601.01])\n",
    "posy=np.array([1976.92])\n",
    "\n",
    "plt.scatter(posx, posy)\n",
    "\n",
    "\n",
    "\n",
    "\n",
    "        "
   ]
  },
  {
   "cell_type": "code",
   "execution_count": 3,
   "metadata": {},
   "outputs": [
    {
     "name": "stdout",
     "output_type": "stream",
     "text": [
      "[[-1.20253315e+08]\n",
      " [-5.70642773e+06]\n",
      " [-1.72257756e+07]\n",
      " [ 3.88479173e+07]\n",
      " [-4.00972568e+06]\n",
      " [-4.82105292e+07]\n",
      " [ 4.28407426e+07]\n",
      " [-4.19762266e+07]]\n",
      "[[-1.20279530e+08]\n",
      " [-5.74447868e+06]\n",
      " [-1.71693382e+07]\n",
      " [ 3.89018319e+07]\n",
      " [-4.06178937e+06]\n",
      " [-4.81728784e+07]\n",
      " [ 4.27669842e+07]\n",
      " [-4.19823395e+07]]\n",
      "\n",
      "[[ 1999.51209958]\n",
      " [-1506.86794166]\n",
      " [ 2970.4610061 ]]\n"
     ]
    },
    {
     "data": {
      "text/plain": [
       "<matplotlib.collections.PathCollection at 0x1dd55c23a60>"
      ]
     },
     "execution_count": 3,
     "metadata": {},
     "output_type": "execute_result"
    },
    {
     "data": {
      "image/png": "[encoded data removed]",
      "text/plain": [
       "<Figure size 432x288 with 1 Axes>"
      ]
     },
     "metadata": {
      "needs_background": "light"
     },
     "output_type": "display_data"
    }
   ],
   "source": [
    "#Linear method\n",
    "H = np.zeros((8,3))\n",
    "for i in range(0,8):\n",
    "    H[i][0] = 2*(x[i]-x[i+1])\n",
    "for i in range(0,8):\n",
    "    H[i][1] = 2*(y[i]-y[i+1])\n",
    "for i in range(0,8):\n",
    "    H[i][2] = -2*0.3*0.3*(t[i]-t[i+1])\n",
    "# print(H)\n",
    "Y = np.zeros((8,1))\n",
    "for i in range(0,8):\n",
    "    Y[i] = (x[i]**2-x[i+1]**2)+(y[i]**2-y[i+1]**2)-0.3*0.3*(t[i]**2-t[i+1]**2)\n",
    "HT=H.T\n",
    "print(Y)\n",
    "# print(H.T)\n",
    "theta=((np.linalg.inv(HT.dot(H))).dot(HT)).dot(Y)\n",
    "alpha=H.dot(theta)\n",
    "inv1 = np.linalg.inv(HT.dot(H))\n",
    "theta = (inv1.dot(HT)).dot(Y)\n",
    "print(alpha)\n",
    "print()\n",
    "print(theta)\n",
    "\n",
    "posx=np.array([1999.512])\n",
    "posy=np.array([-1506.86])\n",
    "plt.scatter(x, y)\n",
    "plt.scatter(posx, posy)\n"
   ]
  },
  {
   "cell_type": "code",
   "execution_count": null,
   "metadata": {},
   "outputs": [],
   "source": []
  },
  {
   "cell_type": "markdown",
   "metadata": {},
   "source": []
  },
  {
   "cell_type": "code",
   "execution_count": null,
   "metadata": {},
   "outputs": [],
   "source": []
  },
  {
   "cell_type": "markdown",
   "metadata": {},
   "source": []
  },
  {
   "cell_type": "code",
   "execution_count": null,
   "metadata": {},
   "outputs": [],
   "source": []
  }
 ],
 "metadata": {
  "interpreter": {
   "hash": "7b4b4feff2f24a0f0a34464dbe537a36fda679851528fb8735cb41fa49dffb2d"
  },
  "kernelspec": {
   "display_name": "Python 3.8.8 64-bit ('base': conda)",
   "name": "python3"
  },
  "language_info": {
   "codemirror_mode": {
    "name": "ipython",
    "version": 3
   },
   "file_extension": ".py",
   "mimetype": "text/x-python",
   "name": "python",
   "nbconvert_exporter": "python",
   "pygments_lexer": "ipython3",
   "version": "3.8.8"
  },
  "orig_nbformat": 4
 },
 "nbformat": 4,
 "nbformat_minor": 2
}
